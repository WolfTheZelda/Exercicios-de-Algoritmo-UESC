{
  "nbformat": 4,
  "nbformat_minor": 0,
  "metadata": {
    "colab": {
      "name": "ExercíciosSequenciais.ipynb",
      "provenance": [],
      "collapsed_sections": [],
      "authorship_tag": "ABX9TyOc8rl2mI+8MLSTQx9tJdNF",
      "include_colab_link": true
    },
    "kernelspec": {
      "name": "python3",
      "display_name": "Python 3"
    },
    "language_info": {
      "name": "python"
    }
  },
  "cells": [
    {
      "cell_type": "markdown",
      "metadata": {
        "id": "view-in-github",
        "colab_type": "text"
      },
      "source": [
        "<a href=\"https://colab.research.google.com/github/WolfTheZelda/Exercicios-de-Algoritmo-UESC/blob/main/Exerc%C3%ADciosSequenciais.ipynb\" target=\"_parent\"><img src=\"https://colab.research.google.com/assets/colab-badge.svg\" alt=\"Open In Colab\"/></a>"
      ]
    },
    {
      "cell_type": "code",
      "metadata": {
        "colab": {
          "base_uri": "https://localhost:8080/"
        },
        "id": "SPgI53-EDV-U",
        "outputId": "ea819b68-323e-47f6-a43d-80d70c20f6f9"
      },
      "source": [
        "#1\n",
        "print(\"Alo mundo\")"
      ],
      "execution_count": null,
      "outputs": [
        {
          "output_type": "stream",
          "text": [
            "Alo mundo\n"
          ],
          "name": "stdout"
        }
      ]
    },
    {
      "cell_type": "code",
      "metadata": {
        "colab": {
          "base_uri": "https://localhost:8080/"
        },
        "id": "MfZtqaGQDcoE",
        "outputId": "883e734d-6eaa-4c40-86e0-158a6bbdb7a5"
      },
      "source": [
        "#2\n",
        "numero = float(input(\"Informe um número: \"))\n",
        "print(\"O número informado foi:\", numero)"
      ],
      "execution_count": null,
      "outputs": [
        {
          "output_type": "stream",
          "text": [
            "Informe um número: 5\n",
            "O número informado foi: 5.0\n"
          ],
          "name": "stdout"
        }
      ]
    },
    {
      "cell_type": "code",
      "metadata": {
        "colab": {
          "base_uri": "https://localhost:8080/"
        },
        "id": "fJZ9f2PlD6IW",
        "outputId": "ab9d29a9-7a39-4a91-81fe-fc1e35df2626"
      },
      "source": [
        "#3\n",
        "numero1, numero2 = float(input(\"Número 1: \")), float(input(\"Número 2: \"))\n",
        "print(\"Soma:\", numero1 + numero2)"
      ],
      "execution_count": null,
      "outputs": [
        {
          "output_type": "stream",
          "text": [
            "Número 1: 3\n",
            "Número 2: 4\n",
            "Soma: 7.0\n"
          ],
          "name": "stdout"
        }
      ]
    },
    {
      "cell_type": "code",
      "metadata": {
        "colab": {
          "base_uri": "https://localhost:8080/"
        },
        "id": "x2xO0ml6Elnb",
        "outputId": "1647c076-ee35-44fc-dc87-df292e66fcf8"
      },
      "source": [
        "#4\n",
        "print(\"Informe as notas bimestrais: \")\n",
        "nota1, nota2, nota3, nota4 = float(input(\"Nota 1: \")), float(input(\"Nota 2: \")), float(input(\"Nota 3: \")), float(input(\"Nota 4: \"))\n",
        "media = (nota1 + nota2 + nota3 + nota4) / 4\n",
        "print(\"Média:\", media if media >= 0 and media <= 10 else \"Desconhecida\")"
      ],
      "execution_count": null,
      "outputs": [
        {
          "output_type": "stream",
          "text": [
            "Informe as notas bimestrais: \n",
            "Nota 1: 3\n",
            "Nota 2: 4\n",
            "Nota 3: 5\n",
            "Nota 4: 8\n",
            "Média: 5.0\n"
          ],
          "name": "stdout"
        }
      ]
    },
    {
      "cell_type": "code",
      "metadata": {
        "colab": {
          "base_uri": "https://localhost:8080/"
        },
        "id": "KgqPVJuYFcBg",
        "outputId": "c07e5405-573e-49e6-f1d0-7d84b56c8a50"
      },
      "source": [
        "#5\n",
        "metros = float(input(\"Insira uma valor em metros (m): \"))\n",
        "print(metros, \"m =\", metros * 100, \"cm\")"
      ],
      "execution_count": null,
      "outputs": [
        {
          "output_type": "stream",
          "text": [
            "Insira uma valor em metros (m): 1.5\n",
            "1.5 m = 150.0 cm\n"
          ],
          "name": "stdout"
        }
      ]
    },
    {
      "cell_type": "code",
      "metadata": {
        "colab": {
          "base_uri": "https://localhost:8080/"
        },
        "id": "IyzScJotGI_Y",
        "outputId": "03342d4b-6d69-4def-d8a9-67eb7b514834"
      },
      "source": [
        "#6\n",
        "r = float(input(\"Raio do círculo: \"))\n",
        "PI = 3.14\n",
        "area = PI * r ** 2\n",
        "print(\"Área do círculo:\", area)"
      ],
      "execution_count": null,
      "outputs": [
        {
          "output_type": "stream",
          "text": [
            "Raio do círculo: 4\n",
            "Área do círculo: 50.24\n"
          ],
          "name": "stdout"
        }
      ]
    },
    {
      "cell_type": "code",
      "metadata": {
        "colab": {
          "base_uri": "https://localhost:8080/"
        },
        "id": "q94Pt56UHPZO",
        "outputId": "4af0198e-956a-4324-8d26-6d29efa0805e"
      },
      "source": [
        "#7\n",
        "lado = float(input(\"Lado do quadrado: \"))\n",
        "area = lado * lado\n",
        "print(\"Área do quadrado:\", area)\n",
        "print(\"Dobro da Área do quadrado:\", area * 2)"
      ],
      "execution_count": null,
      "outputs": [
        {
          "output_type": "stream",
          "text": [
            "Lado do quadrado: 4\n",
            "Área do quadrado: 16.0\n",
            "Dobro da Área do quadrado: 32.0\n"
          ],
          "name": "stdout"
        }
      ]
    },
    {
      "cell_type": "code",
      "metadata": {
        "colab": {
          "base_uri": "https://localhost:8080/"
        },
        "id": "iSehYFRqHsL8",
        "outputId": "2015b707-1f18-4a76-9502-8965fc9ecfe2"
      },
      "source": [
        "#8\n",
        "dinheiro = float(input(\"Quanto por hora: \"))\n",
        "hora = float(input(\"Horas trabalhadas: \"))\n",
        "\n",
        "salario = dinheiro * hora\n",
        "\n",
        "print(\"Salário\", \"R$\" + str(salario))"
      ],
      "execution_count": null,
      "outputs": [
        {
          "output_type": "stream",
          "text": [
            "Quanto por hora: 3\n",
            "Horas trabalhadas: 2\n",
            "Salário R$6.0\n"
          ],
          "name": "stdout"
        }
      ]
    },
    {
      "cell_type": "code",
      "metadata": {
        "colab": {
          "base_uri": "https://localhost:8080/"
        },
        "id": "oFIoPH67Ijou",
        "outputId": "f86875d0-e7c4-4b23-cbfd-a56d47ba2246"
      },
      "source": [
        "#9\n",
        "farenheit = float(input(\"Farenheit(°F): \"))\n",
        "celsius = 5 * (farenheit - 32) / 9\n",
        "\n",
        "print(\"Celsius (°C):\", celsius)"
      ],
      "execution_count": null,
      "outputs": [
        {
          "output_type": "stream",
          "text": [
            "Farenheit(°F): 50\n",
            "Celsius (°C): 10.0\n"
          ],
          "name": "stdout"
        }
      ]
    },
    {
      "cell_type": "code",
      "metadata": {
        "colab": {
          "base_uri": "https://localhost:8080/"
        },
        "id": "2-9cabqfJGRA",
        "outputId": "c5431f49-171b-44ee-88f3-fee87001cc11"
      },
      "source": [
        "#10\n",
        "celsius = float(input(\"Celsius (°C): \"))\n",
        "farenheit = (celsius * 9) / 5 + 32\n",
        "\n",
        "print(\"Farenheit (°F):\", farenheit)"
      ],
      "execution_count": null,
      "outputs": [
        {
          "output_type": "stream",
          "text": [
            "Celsius (°C): 12\n",
            "Farenheit (°F): 53.6\n"
          ],
          "name": "stdout"
        }
      ]
    },
    {
      "cell_type": "code",
      "metadata": {
        "colab": {
          "base_uri": "https://localhost:8080/"
        },
        "id": "uUexxHy6KrsC",
        "outputId": "d576a9dc-a9ee-42fc-cacc-527f1b6d7300"
      },
      "source": [
        "#11\n",
        "inteiro1, inteiro2 = int(input(\"Inteiro 1: \")), int(input(\"Inteiro 2: \"))\n",
        "real = float(input(\"Real: \"))\n",
        "\n",
        "a = (inteiro1 * 2) * (inteiro2 / 2)\n",
        "b = (inteiro1 * 3) + real\n",
        "c = real ** 3\n",
        "\n",
        "print(\"A=\", a)\n",
        "print(\"B=\", b)\n",
        "print(\"C=\", c)"
      ],
      "execution_count": null,
      "outputs": [
        {
          "output_type": "stream",
          "text": [
            "Inteiro 1: 2\n",
            "Inteiro 2: 4\n",
            "Real: 1.5\n",
            "A= 8.0\n",
            "B= 7.5\n",
            "C= 3.375\n"
          ],
          "name": "stdout"
        }
      ]
    },
    {
      "cell_type": "code",
      "metadata": {
        "colab": {
          "base_uri": "https://localhost:8080/"
        },
        "id": "TBSN57mmMA6w",
        "outputId": "4a49d309-0eab-409c-a2ef-67752ad62051"
      },
      "source": [
        "#12\n",
        "altura = float(input(\"Altura: \"))\n",
        "print(\"Peso ideal: \", (72.7 * altura) - 58)"
      ],
      "execution_count": null,
      "outputs": [
        {
          "output_type": "stream",
          "text": [
            "Altura: 1.6\n",
            "Peso ideal:  58.32000000000001\n"
          ],
          "name": "stdout"
        }
      ]
    },
    {
      "cell_type": "code",
      "metadata": {
        "colab": {
          "base_uri": "https://localhost:8080/"
        },
        "id": "L_XqX1nyMaal",
        "outputId": "9bafa991-5f5e-4f55-a7ed-4cdd0dd0b5b3"
      },
      "source": [
        "#13\n",
        "altura = float(input(\"Altura: \"))\n",
        "sexo=input(\"Sexo (M ou F): \")\n",
        "\n",
        "if sexo[0] == \"M\":\n",
        "  print(\"Peso ideal: \", (72.7 * altura) - 58)\n",
        "elif sexo[0] == \"F\":  \n",
        "  print(\"Peso ideal: \", (62.1 * altura) - 44.7)\n",
        "else:\n",
        "  print(\"Sexo Inválido\")"
      ],
      "execution_count": null,
      "outputs": [
        {
          "output_type": "stream",
          "text": [
            "Altura: 1.6\n",
            "Sexo (M ou F): F\n",
            "Peso ideal:  54.66000000000001\n"
          ],
          "name": "stdout"
        }
      ]
    },
    {
      "cell_type": "code",
      "metadata": {
        "colab": {
          "base_uri": "https://localhost:8080/"
        },
        "id": "z2pzsKdqM9qm",
        "outputId": "d9a780e3-4b3c-4605-cd13-98f91118e58b"
      },
      "source": [
        "#14\n",
        "peso = float(input(\"Peso: \"))\n",
        "if peso > 50:\n",
        "  excesso = peso - 50\n",
        "  multa = excesso * 4\n",
        "\n",
        "  print(\"Excesso:\", excesso)\n",
        "  print(\"Multa\", multa)\n",
        "else:\n",
        "  print(\"Sem multa\")"
      ],
      "execution_count": null,
      "outputs": [
        {
          "output_type": "stream",
          "text": [
            "Peso: 55\n",
            "Excesso: 5.0\n",
            "Multa 20.0\n"
          ],
          "name": "stdout"
        }
      ]
    },
    {
      "cell_type": "code",
      "metadata": {
        "colab": {
          "base_uri": "https://localhost:8080/"
        },
        "id": "kQQvDWjPNxoQ",
        "outputId": "d92d5510-03c1-4f22-d6e1-91fad04ece76"
      },
      "source": [
        "#15\n",
        "dinheiro = float(input(\"Quanto por hora: \"))\n",
        "hora = float(input(\"Horas trabalhadas: \"))\n",
        "\n",
        "salario = dinheiro * hora\n",
        "\n",
        "ir = salario * 0.11\n",
        "inss = salario * 0.08\n",
        "sindicato = salario * 0.05\n",
        "\n",
        "liquido = salario - (ir + inss + sindicato)\n",
        "\n",
        "print(\"Salário Bruto\", \"R$\" + str(salario))\n",
        "print(\"IR\", \"R$\" + str(ir))\n",
        "print(\"INSS\", \"R$\" + str(inss))\n",
        "print(\"Sindicato\", \"R$\" + str(sindicato))\n",
        "print(\"Salário Líquido\", \"R$\" + str(liquido))"
      ],
      "execution_count": null,
      "outputs": [
        {
          "output_type": "stream",
          "text": [
            "Quanto por hora: 2\n",
            "Horas trabalhadas: 10\n",
            "Salário Bruto R$20.0\n",
            "IR R$2.2\n",
            "INSS R$1.6\n",
            "Sindicato R$1.0\n",
            "Salário Líquido R$15.2\n"
          ],
          "name": "stdout"
        }
      ]
    },
    {
      "cell_type": "code",
      "metadata": {
        "colab": {
          "base_uri": "https://localhost:8080/"
        },
        "id": "sUZmA4VPO-Jp",
        "outputId": "461ee691-43e0-4c66-f8ec-a63cccea6bf3"
      },
      "source": [
        "#16\n",
        "area = float(input(\"Área (m²): \"))\n",
        "\n",
        "litros = area / 3\n",
        "print(\"Litros:\", litros, \"L\")\n",
        "\n",
        "latas = int(litros / 18) + (litros % 18 > 0)\n",
        "print(\"Latas:\", latas)\n",
        "\n",
        "preco = latas * 80\n",
        "print(\"Preço:\", \"R$\" + str(preco))"
      ],
      "execution_count": null,
      "outputs": [
        {
          "output_type": "stream",
          "text": [
            "Área (m²): 54\n",
            "Litros: 18.0 L\n",
            "Latas: 1\n",
            "Preço: R$80\n"
          ],
          "name": "stdout"
        }
      ]
    },
    {
      "cell_type": "code",
      "metadata": {
        "colab": {
          "base_uri": "https://localhost:8080/"
        },
        "id": "pQjk_z9OQ-Ff",
        "outputId": "ec33234c-2562-4a4a-de77-d9eb5b9ef5bf"
      },
      "source": [
        "#17\n",
        "area = float(input(\"Área (m²): \"))\n",
        "preferencia = int(input(\"Preferência (1 para latas, 2 para galões, 3 para ambos): \"))\n",
        "\n",
        "litros = area / 6\n",
        "print(\"Litros:\", litros, \"L\")\n",
        "\n",
        "if preferencia == 1:\n",
        "  latas = int(litros / 18) + (litros % 18 > 0)\n",
        "  print(\"Latas:\", latas)\n",
        "\n",
        "  preco = latas * 80\n",
        "  print(\"Preço Latas:\", \"R$\" + str(preco))\n",
        "\n",
        "elif preferencia == 2:\n",
        "  galoes = int(litros / 3.6) + (litros % 3.6 > 0)\n",
        "  print(\"Galões:\", galoes)\n",
        "\n",
        "  preco = galoes * 25\n",
        "  print(\"Preço Galões:\", \"R$\" + str(preco))\n",
        "\n",
        "elif preferencia == 3:\n",
        "  latas = int(litros / 18)\n",
        "  latasResto = litros % 18\n",
        "  galoes = int(latasResto / 3.6) + (latasResto % 3.6 > 0)\n",
        "\n",
        "  print(\"Latas:\", latas)\n",
        "  print(\"Galões:\", galoes)\n",
        "  \n",
        "  preco = (latas * 80) + (galoes * 25)\n",
        "  print(\"Preço Latas e Galões:\", \"R$\" + str(preco))\n",
        "else:\n",
        "  print(\"Preferência Inválida\")"
      ],
      "execution_count": null,
      "outputs": [
        {
          "output_type": "stream",
          "text": [
            "Área (m²): 110\n",
            "Preferência (1 para latas, 2 para galões, 3 para ambos): 1\n",
            "Litros: 18.333333333333332 L\n",
            "Latas: 2\n",
            "Preço Latas: R$160\n"
          ],
          "name": "stdout"
        }
      ]
    },
    {
      "cell_type": "code",
      "metadata": {
        "colab": {
          "base_uri": "https://localhost:8080/"
        },
        "id": "bSB4llc2RBKN",
        "outputId": "702e5b5b-966d-4022-9ee6-ae4479fc77f0"
      },
      "source": [
        "#18\n",
        "size = float(input(\"Tamanho Download (MB): \"))\n",
        "speed = float(input(\"Velocidade Internet (Mbps): \"))\n",
        "\n",
        "tempo = ((size * 8) / speed) / 60\n",
        "\n",
        "print(\"Tempo Download (m):\", tempo, \"minutos\")"
      ],
      "execution_count": null,
      "outputs": [
        {
          "output_type": "stream",
          "text": [
            "Tamanho Download (MB): 8\n",
            "Velocidade Internet (Mbps): 1\n",
            "Tempo Download (m): 1.0666666666666667 minutos\n"
          ],
          "name": "stdout"
        }
      ]
    }
  ]
}