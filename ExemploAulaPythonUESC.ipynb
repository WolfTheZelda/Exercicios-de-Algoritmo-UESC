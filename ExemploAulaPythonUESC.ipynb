{
  "nbformat": 4,
  "nbformat_minor": 0,
  "metadata": {
    "colab": {
      "name": "ExemploAulaPythonUESC.ipynb",
      "provenance": [],
      "collapsed_sections": [],
      "authorship_tag": "ABX9TyPIrHxlwhioEbVK2sCzawwN",
      "include_colab_link": true
    },
    "kernelspec": {
      "name": "python3",
      "display_name": "Python 3"
    },
    "language_info": {
      "name": "python"
    }
  },
  "cells": [
    {
      "cell_type": "markdown",
      "metadata": {
        "id": "view-in-github",
        "colab_type": "text"
      },
      "source": [
        "<a href=\"https://colab.research.google.com/github/WolfTheZelda/Exercicios-de-Algoritmo-UESC/blob/main/ExemploAulaPythonUESC.ipynb\" target=\"_parent\"><img src=\"https://colab.research.google.com/assets/colab-badge.svg\" alt=\"Open In Colab\"/></a>"
      ]
    },
    {
      "cell_type": "code",
      "metadata": {
        "colab": {
          "base_uri": "https://localhost:8080/"
        },
        "id": "PZ98PnvSTjRs",
        "outputId": "a04d84a2-ea02-4308-f977-c96b2c6af342"
      },
      "source": [
        "num1 = float(input(\"número 1: \"))\n",
        "num2 = float(input(\"número 2: \"))\n",
        "\n",
        "print(\"\\n\")\n",
        "print(\"RESULTADOS\")\n",
        "print(\"soma: \", num1 + num2)\n",
        "print(\"subtração: \", num1 - num2)\n",
        "print(\"multiplicação: \", num1 * num2)\n",
        "print(\"divisão: \", num1 / num2)\n",
        "print(\"resto: \", num1 % num2)\n",
        "print(\"potência: \", num1 ** num2)"
      ],
      "execution_count": null,
      "outputs": [
        {
          "output_type": "stream",
          "text": [
            "número 1: 3.14\n",
            "número 2: 1\n",
            "\n",
            "\n",
            "RESULTADOS\n",
            "soma:  4.140000000000001\n",
            "subtração:  2.14\n",
            "multiplicação:  3.14\n",
            "divisão:  3.14\n",
            "resto:  0.14000000000000012\n",
            "potência:  3.14\n"
          ],
          "name": "stdout"
        }
      ]
    },
    {
      "cell_type": "code",
      "metadata": {
        "colab": {
          "base_uri": "https://localhost:8080/"
        },
        "id": "Fztf6s3ZjOWj",
        "outputId": "2acbb09e-ead2-40b2-d84a-5c60ccb96967"
      },
      "source": [
        "a, b, c, d, e = 12.5, 23.4, 3, 5, 12\n",
        "\n",
        "h = (2 * a) * (c / d) + (e ** c)\n",
        "i = ((4 ** (d-c)) * d) - (e * c)\n",
        "j = b - (5 * a) + (b ** 2)\n",
        "\n",
        "print(\"h = \", h)\n",
        "print(\"i = \", i)\n",
        "print(\"j = \", j)\n",
        "\n",
        "a = 235 % 16\n",
        "print(\"a = \", int(a))\n",
        "\n",
        "x = 234 / 23\n",
        "print(\"x = \", int(x))"
      ],
      "execution_count": null,
      "outputs": [
        {
          "output_type": "stream",
          "text": [
            "h =  1743.0\n",
            "i =  44\n",
            "j =  508.4599999999999\n",
            "a =  11\n",
            "x =  10\n"
          ],
          "name": "stdout"
        }
      ]
    },
    {
      "cell_type": "code",
      "metadata": {
        "colab": {
          "base_uri": "https://localhost:8080/"
        },
        "id": "VRcWLZigpDTy",
        "outputId": "eb6d7275-2120-4e4a-d366-721b7ecd961c"
      },
      "source": [
        "texto1=\"O rato roeu a roupa do rei de roma\"\n",
        "texto2=\"Estavam lado a lado\"\n",
        "texto3=\"Este mundo é incrível!\"\n",
        "\n",
        "print(texto1[0:1] + texto2[8:9] + texto2[3:4] + texto3[4:10] + texto3[21:22])"
      ],
      "execution_count": null,
      "outputs": [
        {
          "output_type": "stream",
          "text": [
            "Ola mundo!\n"
          ],
          "name": "stdout"
        }
      ]
    },
    {
      "cell_type": "code",
      "metadata": {
        "colab": {
          "base_uri": "https://localhost:8080/"
        },
        "id": "V3GHVi-yxjk-",
        "outputId": "f872ca93-5c73-4933-d667-1ffa0161ac7f"
      },
      "source": [
        "lista = [['A', 1], ['B', 2], ['C', 3], ['D', 4], ['E', 5], ['F', 6], ['G', 7], ['H', 8], ['I', 9], ['J', 10]]\n",
        "print(lista[4])"
      ],
      "execution_count": null,
      "outputs": [
        {
          "output_type": "stream",
          "text": [
            "['E', 5]\n"
          ],
          "name": "stdout"
        }
      ]
    },
    {
      "cell_type": "code",
      "metadata": {
        "colab": {
          "base_uri": "https://localhost:8080/"
        },
        "id": "7IcgSCfuXhUG",
        "outputId": "f1c05f3c-1f22-4e37-f20e-09b2eefad962"
      },
      "source": [
        "numeros = [float(input(\"n1: \")), float(input(\"n2: \")), float(input(\"n3: \")), float(input(\"n4: \")), float(input(\"n5: \"))]\n",
        "numeros.sort()\n",
        "print(\"menor: \", numeros[0])\n",
        "print(\"maior: \", numeros[-1])\n",
        "\n",
        "lista = [1,5,3,4,2,5,7,6,8,5,4,2,3,1,2,1,5,4,3,5,6,9,8,7,8,4,3]\n",
        "print(\"quantidade: \", lista.count(5))\n",
        "\n",
        "cor = [\"amarelo\", \"laranja\", \"vermelho\", \"roxo\", \"rosa\"]\n",
        "cor.append(\"marrom\")\n",
        "cor.sort()\n",
        "cor.pop()\n",
        "print(\"cor: \", cor)\n",
        "\n",
        "nomes = [\"Irineu\", \"Douglas\", \"Jairo\", \"Charles Darwin\", \"Reginaldo Pereira\"]\n",
        "print(\"nome3: \", nomes[2])"
      ],
      "execution_count": null,
      "outputs": [
        {
          "output_type": "stream",
          "text": [
            "n1: 4\n",
            "n2: 3\n",
            "n3: 6\n",
            "n4: 7\n",
            "n5: 8\n",
            "menor:  3.0\n",
            "maior:  8.0\n",
            "quantidade:  5\n",
            "cor:  ['amarelo', 'laranja', 'marrom', 'rosa', 'roxo']\n",
            "nome3:  Jairo\n"
          ],
          "name": "stdout"
        }
      ]
    },
    {
      "cell_type": "code",
      "metadata": {
        "colab": {
          "base_uri": "https://localhost:8080/"
        },
        "id": "a1C2F2lir3c7",
        "outputId": "a2b4ce2e-d7dc-4a98-df3f-95924106a5e2"
      },
      "source": [
        "numeros = [None] * 5\n",
        "maior, menor = 0, 0\n",
        "\n",
        "for i in range(len(numeros)):\n",
        "  numeros[i] = float(input(\"n\" + str(i+1) + \": \"))\n",
        "\n",
        "  if numeros[i] > maior:\n",
        "    maior = numeros[i]\n",
        "  elif numeros[i] < menor or (menor == 0 and numeros[i] < maior):\n",
        "    menor = numeros[i]\n",
        "\n",
        "print(\"menor: \", menor)\n",
        "print(\"maior: \", maior)"
      ],
      "execution_count": null,
      "outputs": [
        {
          "output_type": "stream",
          "text": [
            "n1: 0\n",
            "n2: 1\n",
            "n3: 2\n",
            "n4: 3\n",
            "n5: 4\n",
            "menor:  0\n",
            "maior:  4.0\n"
          ],
          "name": "stdout"
        }
      ]
    },
    {
      "cell_type": "code",
      "metadata": {
        "colab": {
          "base_uri": "https://localhost:8080/"
        },
        "id": "e3vC_lpboeoo",
        "outputId": "dfe6dd71-daa1-4389-af50-e1f374bf63e2"
      },
      "source": [
        "alunosCount = int(input(\"Quantos alunos? \"))\n",
        "\n",
        "if alunosCount > 0:\n",
        "  alunosList = []\n",
        "  alunosAverageSum = 0\n",
        "\n",
        "  for i in range(alunosCount):\n",
        "      print(\"\\nALUNO \", i + 1)\n",
        "\n",
        "      nome, matricula, nota1, nota2 = input(\"Nome: \"), input(\"Matrícula: \"), float(input(\"Nota 1: \")), float(input(\"Nota 2: \"))\n",
        "      media = (nota1 + nota2) / 2    \n",
        "      alunoSublist = [nome, matricula, nota1, nota2, media]\n",
        "\n",
        "      print(alunoSublist)\n",
        "\n",
        "      alunosAverageSum = alunosAverageSum + media\n",
        "      alunosList.append(alunoSublist)\n",
        "\n",
        "  alunosAverage = alunosAverageSum / alunosCount\n",
        "\n",
        "  print(\"\\nMédia da Turma: \", alunosAverage)\n",
        "\n",
        "  for i in range(alunosCount):\n",
        "    print(\"\\nALUNO \", i + 1)\n",
        "\n",
        "    nome, media = alunosList[i][0], alunosList[i][-1]\n",
        "    print(\"Nome: \", nome)\n",
        "    print(\"Média: \", media)\n",
        "    print(\"Status: \", \"Igualdade da Média\" if media == alunosAverage else (\"Acima da Média\" if media > alunosAverage else \"Abaixo da Média\"))\n"
      ],
      "execution_count": null,
      "outputs": [
        {
          "output_type": "stream",
          "text": [
            "Quantos alunos? 3\n",
            "\n",
            "ALUNO  1\n",
            "Nome: Jairo\n",
            "Matrícula: 0\n",
            "Nota 1: 10\n",
            "Nota 2: 9\n",
            "['Jairo', '0', 10.0, 9.0, 9.5]\n",
            "\n",
            "ALUNO  2\n",
            "Nome: Irineu\n",
            "Matrícula: 1\n",
            "Nota 1: 5\n",
            "Nota 2: 7\n",
            "['Irineu', '1', 5.0, 7.0, 6.0]\n",
            "\n",
            "ALUNO  3\n",
            "Nome: Edgar\n",
            "Matrícula: 2\n",
            "Nota 1: 10\n",
            "Nota 2: 10\n",
            "['Edgar', '2', 10.0, 10.0, 10.0]\n",
            "\n",
            "Média da Turma:  8.5\n",
            "\n",
            "ALUNO  1\n",
            "Nome:  Jairo\n",
            "Média:  9.5\n",
            "Status:  Acima da Média\n",
            "\n",
            "ALUNO  2\n",
            "Nome:  Irineu\n",
            "Média:  6.0\n",
            "Status:  Abaixo da Média\n",
            "\n",
            "ALUNO  3\n",
            "Nome:  Edgar\n",
            "Média:  10.0\n",
            "Status:  Acima da Média\n"
          ],
          "name": "stdout"
        }
      ]
    },
    {
      "cell_type": "code",
      "metadata": {
        "colab": {
          "base_uri": "https://localhost:8080/"
        },
        "id": "rvZB3U25cdwG",
        "outputId": "8c015ed9-6abc-4eec-e8b3-d020df8acb63"
      },
      "source": [
        "dias = int(input(\"Quantos dias sem acidentes? \"))\n",
        "\n",
        "if(dias > 0):\n",
        "  meses = dias // 30\n",
        "  anos = meses // 12\n",
        "\n",
        "  dias -= 30 * meses\n",
        "  meses -= 12 * anos\n",
        "\n",
        "  dias = ((\" e \" if anos > 0 or meses > 0 else \" \" if anos > 0 else \"\") + str(dias) + (\" dias\" if dias > 1 else \" dia\")) if dias > 0 else \"\"\n",
        "  meses = ((\", \" if anos > 0 else \"\") + str(meses) + (\" meses\" if meses > 1 else \" mês\")) if meses > 0 else \"\"\n",
        "  anos = str(anos) + (\" anos\" if anos > 1 else \" ano\") if anos > 0 else \"\"\n",
        "\n",
        "  print(\"Estamos há\", anos + meses + dias, \"sem acidentes\")\n",
        "else:\n",
        "  print(\"Estamos há 0 dias sem acidentes\")"
      ],
      "execution_count": null,
      "outputs": [
        {
          "output_type": "stream",
          "text": [
            "Quantos dias sem acidentes? 735\n",
            "Estamos há 2 anos e 15 dias sem acidentes\n"
          ],
          "name": "stdout"
        }
      ]
    },
    {
      "cell_type": "code",
      "metadata": {
        "colab": {
          "base_uri": "https://localhost:8080/"
        },
        "id": "wrzJuzrPlO2v",
        "outputId": "39d6566a-bb09-4c90-fa77-3fe818bd5a91"
      },
      "source": [
        "funcionarios = int(input(\"Quantos funcionários? \"))\n",
        "lista = []\n",
        "\n",
        "for i in range(funcionarios):\n",
        "  nome, salario = input(\"Nome: \"), float(input(\"Salário: \"))  \n",
        "  lista.append([nome, salario, salario * 1.3 if salario < 5000 else salario])\n",
        "  \n",
        "  print(\"\\nFUNCIONÁRIO\", i + 1)\n",
        "  print(\"Nome:\", nome)\n",
        "  print(\"Salário:\", salario)\n",
        "  print(\"Salário Novo:\", lista[i][-1])"
      ],
      "execution_count": null,
      "outputs": [
        {
          "output_type": "stream",
          "text": [
            "Quantos funcionários? 1\n",
            "Nome: Irineu\n",
            "Salário: 4000\n",
            "\n",
            "FUNCIONÁRIO 1\n",
            "Nome: Irineu\n",
            "Salário: 4000.0\n",
            "Salário Novo: 5200.0\n"
          ],
          "name": "stdout"
        }
      ]
    },
    {
      "cell_type": "code",
      "metadata": {
        "colab": {
          "base_uri": "https://localhost:8080/"
        },
        "id": "_u7kV_rHp_a3",
        "outputId": "7d8b327e-ee30-443f-b547-e6aafb30c855"
      },
      "source": [
        "numeros = [float(input(\"Número 1: \")), float(input(\"Número 2: \"))]\n",
        "maior = 0;\n",
        "\n",
        "for i in range(2):\n",
        "  if maior == 0 or numeros[i] > maior:\n",
        "    maior = numeros[i]\n",
        "\n",
        "print(\"Maior:\", maior)"
      ],
      "execution_count": null,
      "outputs": [
        {
          "output_type": "stream",
          "text": [
            "Número 1: 1\n",
            "Número 2: 16\n",
            "Maior: 16.0\n"
          ],
          "name": "stdout"
        }
      ]
    },
    {
      "cell_type": "code",
      "metadata": {
        "colab": {
          "base_uri": "https://localhost:8080/"
        },
        "id": "_rxRjq_VrKUQ",
        "outputId": "4ac31e13-6ee5-4710-8890-edebef519f46"
      },
      "source": [
        "numero = float(input(\"Número: \"))\n",
        "\n",
        "if numero != 0:\n",
        "  if numero > 0:\n",
        "    print(\"POSITIVO\")\n",
        "  else:\n",
        "    print(\"NEGATIVO\")\n",
        "else:\n",
        "  print(\"ZERO\")"
      ],
      "execution_count": null,
      "outputs": [
        {
          "output_type": "stream",
          "text": [
            "Número: -1\n",
            "NEGATIVO\n"
          ],
          "name": "stdout"
        }
      ]
    },
    {
      "cell_type": "code",
      "metadata": {
        "colab": {
          "base_uri": "https://localhost:8080/"
        },
        "id": "KStrlgVLsLD4",
        "outputId": "0befe67e-63b6-4cdf-bf1b-b9f72ab86936"
      },
      "source": [
        "tag = input(\"TAG: \")\n",
        "sexo = \"INDEFINIDO\"\n",
        "\n",
        "if tag[0].lower() == \"f\":\n",
        "  sexo = \"FEMININO\"\n",
        "elif tag[0].lower() == \"m\":\n",
        "  sexo = \"MASCULINO\"\n",
        "\n",
        "print(\"Sexo:\", sexo)"
      ],
      "execution_count": null,
      "outputs": [
        {
          "output_type": "stream",
          "text": [
            "TAG: g\n",
            "Sexo: INDEFINIDO\n"
          ],
          "name": "stdout"
        }
      ]
    },
    {
      "cell_type": "code",
      "metadata": {
        "colab": {
          "base_uri": "https://localhost:8080/"
        },
        "id": "ot1XdPwdtFKM",
        "outputId": "d0fbfe38-88b2-47e6-998b-77a5fd786236"
      },
      "source": [
        "letra = input(\"Insira uma letra: \")\n",
        "\n",
        "if(len(letra) == 1):\n",
        "  VOGAIS = [\"a\", \"e\", \"i\", \"o\", \"u\"]\n",
        "  \n",
        "  status = \"CONSOANTE\"\n",
        "\n",
        "  for i in range(len(VOGAIS)):\n",
        "    if letra[0].lower() == VOGAIS[i]:\n",
        "      status = \"VOGAL\"\n",
        "\n",
        "  print(status)\n",
        "else:\n",
        "  print(\"INVÁLIDO\")"
      ],
      "execution_count": null,
      "outputs": [
        {
          "output_type": "stream",
          "text": [
            "Insira uma letra: Agua\n",
            "INVÁLIDO\n"
          ],
          "name": "stdout"
        }
      ]
    },
    {
      "cell_type": "code",
      "metadata": {
        "colab": {
          "base_uri": "https://localhost:8080/"
        },
        "id": "JhPllk55v0-g",
        "outputId": "047374d3-6ac5-4c0f-f2d7-35a4234a7a52"
      },
      "source": [
        "notas = [float(input(\"Nota 1: \")), float(input(\"Nota 2:\"))]\n",
        "media = (notas[0] + notas[-1]) / 2\n",
        "\n",
        "if media > 10:\n",
        "  status = \"INVÁLIDO\"\n",
        "elif media == 10:\n",
        "  status = \"APROVADO COM DISTINÇÃO\"\n",
        "elif media >= 7:\n",
        "  status = \"APROVADO\"\n",
        "else:\n",
        "  status = \"REPROVADO\"\n",
        "\n",
        "print(\"Média:\", media)\n",
        "print(\"Status:\", status)"
      ],
      "execution_count": null,
      "outputs": [
        {
          "output_type": "stream",
          "text": [
            "Nota 1: 7\n",
            "Nota 2:7\n",
            "Média: 7.0\n",
            "Status: APROVADO\n"
          ],
          "name": "stdout"
        }
      ]
    },
    {
      "cell_type": "code",
      "metadata": {
        "id": "6rQt6Jg0xmD2",
        "colab": {
          "base_uri": "https://localhost:8080/"
        },
        "outputId": "f647ffb1-cbd4-4910-cfc0-9c706d99f2cc"
      },
      "source": [
        "def formatadorLista(quantidade):\n",
        "    lista = []\n",
        "\n",
        "    for i in range(quantidade):\n",
        "        numero = float(input(\"Número \" + str(i + 1) + \": \"))\n",
        "        lista.append(numero)  \n",
        "\n",
        "    # A\n",
        "    def maior(lista):\n",
        "        lista.sort()\n",
        "        return lista[-1]\n",
        "    print(\"Maior Elemento:\", maior(lista))\n",
        "\n",
        "    # B\n",
        "    def soma(lista):\n",
        "        soma = 0\n",
        "        for i in lista:\n",
        "            soma += i\n",
        "        return soma\n",
        "    print(\"Soma Elementos:\", soma(lista))\n",
        "\n",
        "    # C\n",
        "    def iguaisPrimeiro(lista):\n",
        "        iguaisPrimeiro = -1\n",
        "        for i in lista:\n",
        "            if i == lista[0]:\n",
        "                iguaisPrimeiro += 1\n",
        "        return iguaisPrimeiro\n",
        "    print(\"Total Elementos = lista[0]:\", iguaisPrimeiro(lista))\n",
        "\n",
        "    # D\n",
        "    def media(soma, quantidade):\n",
        "        return soma / quantidade\n",
        "    print(\"Média Elementos:\", media(soma(lista), quantidade))\n",
        "\n",
        "    # E\n",
        "    def mediaAproximada(soma, quantidade):\n",
        "        return soma // quantidade\n",
        "    print(\"Média Aproximada Elementos:\", mediaAproximada(soma(lista), quantidade))\n",
        "\n",
        "    # F\n",
        "    def somaNegativa(lista):\n",
        "        somaNegativa = 0\n",
        "        for i in lista:\n",
        "            if numero < 0:\n",
        "                somaNegativa += i\n",
        "        return somaNegativa\n",
        "    print(\"Soma Elementos Negativos:\", somaNegativa(lista))\n",
        "\n",
        "    # G\n",
        "    def vizinhosIguais(lista):\n",
        "        vizinhosSalvos = []\n",
        "        vizinhosIguais = 0\n",
        "        for i in range(len(lista)):\n",
        "            frente = i + 1\n",
        "            atras = i - 1\n",
        "\n",
        "            if i not in vizinhosSalvos:\n",
        "                if frente <= len(lista) - 1:\n",
        "                    if lista[i] == lista[frente]:\n",
        "                        vizinhosIguais += 1\n",
        "                        vizinhosSalvos.append(lista[i])\n",
        "\n",
        "                if atras >= 0:\n",
        "                    if lista[i] == lista[atras]:\n",
        "                        vizinhosIguais += 1\n",
        "                        vizinhosSalvos.append(lista[i])\n",
        "        return vizinhosIguais\n",
        "    print(\"Quantidade de Vizinhos Iguais:\", vizinhosIguais(lista))\n",
        "\n",
        "formatadorLista(int(input(\"Quantidade de números: \")))"
      ],
      "execution_count": null,
      "outputs": [
        {
          "output_type": "stream",
          "text": [
            "Quantidade de números: 10\n",
            "Número 1: 2\n",
            "Número 2: 2\n",
            "Número 3: 3\n",
            "Número 4: 5\n",
            "Número 5: 7\n",
            "Número 6: 8\n",
            "Número 7: 8\n",
            "Número 8: 8\n",
            "Número 9: 10\n",
            "Número 10: 2\n",
            "Maior Elemento: 10.0\n",
            "Soma Elementos: 55.0\n",
            "Total Elementos = lista[0]: 2\n",
            "Média Elementos: 5.5\n",
            "Média Aproximada Elementos: 5.0\n",
            "Soma Elementos Negativos: 0\n",
            "Quantidade de Vizinhos Iguais: 6\n"
          ],
          "name": "stdout"
        }
      ]
    }
  ]
}